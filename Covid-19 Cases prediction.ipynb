{
 "cells": [
  {
   "cell_type": "markdown",
   "metadata": {},
   "source": [
    "## Prediction of Covid-19 Cases\n",
    "In this notebook we are going to build a michine learning model for prediction the number of covid-19 cases\n",
    "\n",
    "**(This is a Regression problem)**\n",
    "\n",
    "### Problem Statement:\n",
    "* problem 1 : Predicting the covi cases in different cities in India on september 1-2020\n",
    "\n",
    "* problem 2 : Create a time series prediction model for the forign visitors and use the prediction to calculate the covid cases for the cities in test-dataset\n",
    "\n",
    "### Data :\n",
    "`Train_dataset.csv` - is a training set which contains data on september 1\n",
    "`Test_dataset.csv` - is a test set where we have to predict the covid cases\n",
    "\n",
    "## Evaluation :\n",
    "The evaluation metrics are selected as RMSLE (root mean squared log error), MSE (mean squared error),R^2 \n",
    "\n",
    "The goal is to reduce the error and get R^2 closer to 1 \n",
    "\n",
    "## Features:\n",
    "Flipr has provided with exel file explaining all the features given in the data set \n"
   ]
  },
  {
   "cell_type": "code",
   "execution_count": 1,
   "metadata": {},
   "outputs": [],
   "source": [
    "## Importing the Libraries\n",
    "import pandas as pd \n",
    "import numpy as np\n",
    "import matplotlib.pyplot as plt \n",
    "import sklearn\n",
    "%matplotlib inline"
   ]
  },
  {
   "cell_type": "code",
   "execution_count": 2,
   "metadata": {},
   "outputs": [],
   "source": [
    "# importing the excel files\n",
    "df = pd.read_excel(\"Train_dataset.xlsx\")"
   ]
  },
  {
   "cell_type": "code",
   "execution_count": 3,
   "metadata": {},
   "outputs": [
    {
     "name": "stdout",
     "output_type": "stream",
     "text": [
      "<class 'pandas.core.frame.DataFrame'>\n",
      "RangeIndex: 787 entries, 0 to 786\n",
      "Data columns (total 16 columns):\n",
      " #   Column             Non-Null Count  Dtype  \n",
      "---  ------             --------------  -----  \n",
      " 0   City               787 non-null    object \n",
      " 1   State              787 non-null    object \n",
      " 2   Type               787 non-null    object \n",
      " 3   Population [2011]  739 non-null    float64\n",
      " 4   Popuation [2001]   295 non-null    float64\n",
      " 5   Sex Ratio          777 non-null    float64\n",
      " 6   Median Age         769 non-null    float64\n",
      " 7   Avg Temp           770 non-null    float64\n",
      " 8   SWM                783 non-null    object \n",
      " 9   Toilets Avl        761 non-null    float64\n",
      " 10  Water Purity       629 non-null    float64\n",
      " 11  H Index            647 non-null    float64\n",
      " 12  Female Population  646 non-null    float64\n",
      " 13  # of hospitals     772 non-null    float64\n",
      " 14  Foreign Visitors   697 non-null    float64\n",
      " 15  Covid Cases        787 non-null    int64  \n",
      "dtypes: float64(11), int64(1), object(4)\n",
      "memory usage: 98.5+ KB\n"
     ]
    }
   ],
   "source": [
    "df.info()"
   ]
  },
  {
   "cell_type": "code",
   "execution_count": 4,
   "metadata": {},
   "outputs": [
    {
     "data": {
      "text/html": [
       "<div>\n",
       "<style scoped>\n",
       "    .dataframe tbody tr th:only-of-type {\n",
       "        vertical-align: middle;\n",
       "    }\n",
       "\n",
       "    .dataframe tbody tr th {\n",
       "        vertical-align: top;\n",
       "    }\n",
       "\n",
       "    .dataframe thead th {\n",
       "        text-align: right;\n",
       "    }\n",
       "</style>\n",
       "<table border=\"1\" class=\"dataframe\">\n",
       "  <thead>\n",
       "    <tr style=\"text-align: right;\">\n",
       "      <th></th>\n",
       "      <th>0</th>\n",
       "      <th>1</th>\n",
       "      <th>2</th>\n",
       "      <th>3</th>\n",
       "      <th>4</th>\n",
       "    </tr>\n",
       "  </thead>\n",
       "  <tbody>\n",
       "    <tr>\n",
       "      <th>City</th>\n",
       "      <td>Mumbai</td>\n",
       "      <td>Delhi</td>\n",
       "      <td>Bangalore</td>\n",
       "      <td>Hyderabad</td>\n",
       "      <td>Ahmedabad</td>\n",
       "    </tr>\n",
       "    <tr>\n",
       "      <th>State</th>\n",
       "      <td>Maharashtra</td>\n",
       "      <td>Delhi</td>\n",
       "      <td>Karnataka</td>\n",
       "      <td>Telangana</td>\n",
       "      <td>Gujarat</td>\n",
       "    </tr>\n",
       "    <tr>\n",
       "      <th>Type</th>\n",
       "      <td>M.C</td>\n",
       "      <td>M.C</td>\n",
       "      <td>MPUA</td>\n",
       "      <td>MPUA</td>\n",
       "      <td>MPUA</td>\n",
       "    </tr>\n",
       "    <tr>\n",
       "      <th>Population [2011]</th>\n",
       "      <td>1.24424e+07</td>\n",
       "      <td>1.10078e+07</td>\n",
       "      <td>8.43668e+06</td>\n",
       "      <td>6.80997e+06</td>\n",
       "      <td>5.57058e+06</td>\n",
       "    </tr>\n",
       "    <tr>\n",
       "      <th>Popuation [2001]</th>\n",
       "      <td>1.19784e+07</td>\n",
       "      <td>9.87917e+06</td>\n",
       "      <td>4.30133e+06</td>\n",
       "      <td>3.63748e+06</td>\n",
       "      <td>3.52008e+06</td>\n",
       "    </tr>\n",
       "    <tr>\n",
       "      <th>Sex Ratio</th>\n",
       "      <td>878</td>\n",
       "      <td>858</td>\n",
       "      <td>936</td>\n",
       "      <td>930</td>\n",
       "      <td>852</td>\n",
       "    </tr>\n",
       "    <tr>\n",
       "      <th>Median Age</th>\n",
       "      <td>23</td>\n",
       "      <td>27</td>\n",
       "      <td>28</td>\n",
       "      <td>23</td>\n",
       "      <td>29</td>\n",
       "    </tr>\n",
       "    <tr>\n",
       "      <th>Avg Temp</th>\n",
       "      <td>32</td>\n",
       "      <td>30</td>\n",
       "      <td>37</td>\n",
       "      <td>31</td>\n",
       "      <td>25</td>\n",
       "    </tr>\n",
       "    <tr>\n",
       "      <th>SWM</th>\n",
       "      <td>MEDIUM</td>\n",
       "      <td>MEDIUM</td>\n",
       "      <td>HIGH</td>\n",
       "      <td>MEDIUM</td>\n",
       "      <td>LOW</td>\n",
       "    </tr>\n",
       "    <tr>\n",
       "      <th>Toilets Avl</th>\n",
       "      <td>219</td>\n",
       "      <td>215</td>\n",
       "      <td>212</td>\n",
       "      <td>217</td>\n",
       "      <td>227</td>\n",
       "    </tr>\n",
       "    <tr>\n",
       "      <th>Water Purity</th>\n",
       "      <td>150</td>\n",
       "      <td>196</td>\n",
       "      <td>102</td>\n",
       "      <td>118</td>\n",
       "      <td>109</td>\n",
       "    </tr>\n",
       "    <tr>\n",
       "      <th>H Index</th>\n",
       "      <td>0.70044</td>\n",
       "      <td>0.920018</td>\n",
       "      <td>0.0970853</td>\n",
       "      <td>0.827744</td>\n",
       "      <td>0.847941</td>\n",
       "    </tr>\n",
       "    <tr>\n",
       "      <th>Female Population</th>\n",
       "      <td>1.09244e+07</td>\n",
       "      <td>9.44472e+06</td>\n",
       "      <td>7.89673e+06</td>\n",
       "      <td>6.33327e+06</td>\n",
       "      <td>4.74614e+06</td>\n",
       "    </tr>\n",
       "    <tr>\n",
       "      <th># of hospitals</th>\n",
       "      <td>159</td>\n",
       "      <td>148</td>\n",
       "      <td>123</td>\n",
       "      <td>110</td>\n",
       "      <td>73</td>\n",
       "    </tr>\n",
       "    <tr>\n",
       "      <th>Foreign Visitors</th>\n",
       "      <td>4.40892e+06</td>\n",
       "      <td>2.37917e+06</td>\n",
       "      <td>636502</td>\n",
       "      <td>126078</td>\n",
       "      <td>284973</td>\n",
       "    </tr>\n",
       "    <tr>\n",
       "      <th>Covid Cases</th>\n",
       "      <td>163115</td>\n",
       "      <td>80188</td>\n",
       "      <td>141000</td>\n",
       "      <td>55123</td>\n",
       "      <td>33204</td>\n",
       "    </tr>\n",
       "  </tbody>\n",
       "</table>\n",
       "</div>"
      ],
      "text/plain": [
       "                             0            1            2            3  \\\n",
       "City                    Mumbai        Delhi    Bangalore    Hyderabad   \n",
       "State              Maharashtra        Delhi    Karnataka    Telangana   \n",
       "Type                       M.C          M.C         MPUA         MPUA   \n",
       "Population [2011]  1.24424e+07  1.10078e+07  8.43668e+06  6.80997e+06   \n",
       "Popuation [2001]   1.19784e+07  9.87917e+06  4.30133e+06  3.63748e+06   \n",
       "Sex Ratio                  878          858          936          930   \n",
       "Median Age                  23           27           28           23   \n",
       "Avg Temp                    32           30           37           31   \n",
       "SWM                     MEDIUM       MEDIUM         HIGH       MEDIUM   \n",
       "Toilets Avl                219          215          212          217   \n",
       "Water Purity               150          196          102          118   \n",
       "H Index                0.70044     0.920018    0.0970853     0.827744   \n",
       "Female Population  1.09244e+07  9.44472e+06  7.89673e+06  6.33327e+06   \n",
       "# of hospitals             159          148          123          110   \n",
       "Foreign Visitors   4.40892e+06  2.37917e+06       636502       126078   \n",
       "Covid Cases             163115        80188       141000        55123   \n",
       "\n",
       "                             4  \n",
       "City                 Ahmedabad  \n",
       "State                  Gujarat  \n",
       "Type                      MPUA  \n",
       "Population [2011]  5.57058e+06  \n",
       "Popuation [2001]   3.52008e+06  \n",
       "Sex Ratio                  852  \n",
       "Median Age                  29  \n",
       "Avg Temp                    25  \n",
       "SWM                        LOW  \n",
       "Toilets Avl                227  \n",
       "Water Purity               109  \n",
       "H Index               0.847941  \n",
       "Female Population  4.74614e+06  \n",
       "# of hospitals              73  \n",
       "Foreign Visitors        284973  \n",
       "Covid Cases              33204  "
      ]
     },
     "execution_count": 4,
     "metadata": {},
     "output_type": "execute_result"
    }
   ],
   "source": [
    "df.head().T"
   ]
  },
  {
   "cell_type": "code",
   "execution_count": 5,
   "metadata": {},
   "outputs": [],
   "source": [
    "df_temp = df"
   ]
  },
  {
   "cell_type": "markdown",
   "metadata": {},
   "source": [
    "# Covert the string coulumns to categories "
   ]
  },
  {
   "cell_type": "code",
   "execution_count": 6,
   "metadata": {},
   "outputs": [
    {
     "name": "stdout",
     "output_type": "stream",
     "text": [
      "<class 'pandas.core.frame.DataFrame'>\n",
      "RangeIndex: 787 entries, 0 to 786\n",
      "Data columns (total 16 columns):\n",
      " #   Column             Non-Null Count  Dtype  \n",
      "---  ------             --------------  -----  \n",
      " 0   City               787 non-null    object \n",
      " 1   State              787 non-null    object \n",
      " 2   Type               787 non-null    object \n",
      " 3   Population [2011]  739 non-null    float64\n",
      " 4   Popuation [2001]   295 non-null    float64\n",
      " 5   Sex Ratio          777 non-null    float64\n",
      " 6   Median Age         769 non-null    float64\n",
      " 7   Avg Temp           770 non-null    float64\n",
      " 8   SWM                783 non-null    object \n",
      " 9   Toilets Avl        761 non-null    float64\n",
      " 10  Water Purity       629 non-null    float64\n",
      " 11  H Index            647 non-null    float64\n",
      " 12  Female Population  646 non-null    float64\n",
      " 13  # of hospitals     772 non-null    float64\n",
      " 14  Foreign Visitors   697 non-null    float64\n",
      " 15  Covid Cases        787 non-null    int64  \n",
      "dtypes: float64(11), int64(1), object(4)\n",
      "memory usage: 98.5+ KB\n"
     ]
    }
   ],
   "source": [
    "df_temp.info()"
   ]
  },
  {
   "cell_type": "code",
   "execution_count": 7,
   "metadata": {},
   "outputs": [
    {
     "name": "stdout",
     "output_type": "stream",
     "text": [
      "City\n",
      "State\n",
      "Type\n",
      "SWM\n"
     ]
    }
   ],
   "source": [
    "## Check which coulums contains strings\n",
    "for label, content in  df_temp.items():\n",
    "    if pd.api.types.is_string_dtype(content):\n",
    "        print(label)"
   ]
  },
  {
   "cell_type": "code",
   "execution_count": 8,
   "metadata": {},
   "outputs": [],
   "source": [
    "## converting the string coulums to categories \n",
    "for label, content in df_temp.items():\n",
    "    if pd.api.types.is_string_dtype(content):\n",
    "        df_temp[label]= df_temp[label].astype(\"category\")"
   ]
  },
  {
   "cell_type": "code",
   "execution_count": 9,
   "metadata": {},
   "outputs": [
    {
     "name": "stdout",
     "output_type": "stream",
     "text": [
      "<class 'pandas.core.frame.DataFrame'>\n",
      "RangeIndex: 787 entries, 0 to 786\n",
      "Data columns (total 16 columns):\n",
      " #   Column             Non-Null Count  Dtype   \n",
      "---  ------             --------------  -----   \n",
      " 0   City               787 non-null    category\n",
      " 1   State              787 non-null    category\n",
      " 2   Type               787 non-null    category\n",
      " 3   Population [2011]  739 non-null    float64 \n",
      " 4   Popuation [2001]   295 non-null    float64 \n",
      " 5   Sex Ratio          777 non-null    float64 \n",
      " 6   Median Age         769 non-null    float64 \n",
      " 7   Avg Temp           770 non-null    float64 \n",
      " 8   SWM                783 non-null    category\n",
      " 9   Toilets Avl        761 non-null    float64 \n",
      " 10  Water Purity       629 non-null    float64 \n",
      " 11  H Index            647 non-null    float64 \n",
      " 12  Female Population  646 non-null    float64 \n",
      " 13  # of hospitals     772 non-null    float64 \n",
      " 14  Foreign Visitors   697 non-null    float64 \n",
      " 15  Covid Cases        787 non-null    int64   \n",
      "dtypes: category(4), float64(11), int64(1)\n",
      "memory usage: 106.9 KB\n"
     ]
    }
   ],
   "source": [
    "df_temp.info()"
   ]
  },
  {
   "cell_type": "markdown",
   "metadata": {},
   "source": [
    "## Filling the missing numeric data \n",
    "\n",
    "The missing values are filled with the mean of the column"
   ]
  },
  {
   "cell_type": "markdown",
   "metadata": {},
   "source": [
    "Lets assume the population difference between 2001 and 2011 is 25 percent."
   ]
  },
  {
   "cell_type": "code",
   "execution_count": 10,
   "metadata": {},
   "outputs": [],
   "source": [
    "# filling pouation [2001]column with 25% less values from the population [2011] column\n",
    "df_temp[\"Popuation [2001]\"]= df_temp[\"Population [2011]\"]-(df_temp[\"Population [2011]\"]*0.25)"
   ]
  },
  {
   "cell_type": "code",
   "execution_count": 11,
   "metadata": {},
   "outputs": [
    {
     "data": {
      "text/plain": [
       "City                   0\n",
       "State                  0\n",
       "Type                   0\n",
       "Population [2011]     48\n",
       "Popuation [2001]      48\n",
       "Sex Ratio             10\n",
       "Median Age            18\n",
       "Avg Temp              17\n",
       "SWM                    4\n",
       "Toilets Avl           26\n",
       "Water Purity         158\n",
       "H Index              140\n",
       "Female Population    141\n",
       "# of hospitals        15\n",
       "Foreign Visitors      90\n",
       "Covid Cases            0\n",
       "dtype: int64"
      ]
     },
     "execution_count": 11,
     "metadata": {},
     "output_type": "execute_result"
    }
   ],
   "source": [
    "df_temp.isna().sum()"
   ]
  },
  {
   "cell_type": "code",
   "execution_count": 12,
   "metadata": {},
   "outputs": [
    {
     "name": "stdout",
     "output_type": "stream",
     "text": [
      "Population [2011]\n",
      "Popuation [2001]\n",
      "Sex Ratio\n",
      "Median Age\n",
      "Avg Temp\n",
      "Toilets Avl\n",
      "Water Purity\n",
      "H Index\n",
      "Female Population\n",
      "# of hospitals\n",
      "Foreign Visitors\n"
     ]
    }
   ],
   "source": [
    "## colums having missing values \n",
    "for label , content in df_temp.items():\n",
    "    if pd.api.types.is_numeric_dtype(content):\n",
    "        if pd.isnull(content).sum():\n",
    "            print(label)"
   ]
  },
  {
   "cell_type": "code",
   "execution_count": 13,
   "metadata": {},
   "outputs": [],
   "source": [
    "## filling the missing values with median\n",
    "for label , content in df_temp.items():\n",
    "    if pd.api.types.is_numeric_dtype(content):\n",
    "        if pd.isnull(content).sum():\n",
    "            ## create a is_missing col to indicate the value has been filled or not \n",
    "            df_temp[label+\"_is_missing\"] = pd.isnull(content)\n",
    "            ## filling the missing values with median of its respective column\n",
    "            df_temp[label]= content.fillna(content.median())"
   ]
  },
  {
   "cell_type": "code",
   "execution_count": 14,
   "metadata": {},
   "outputs": [
    {
     "data": {
      "text/plain": [
       "City                            0\n",
       "State                           0\n",
       "Type                            0\n",
       "Population [2011]               0\n",
       "Popuation [2001]                0\n",
       "Sex Ratio                       0\n",
       "Median Age                      0\n",
       "Avg Temp                        0\n",
       "SWM                             4\n",
       "Toilets Avl                     0\n",
       "Water Purity                    0\n",
       "H Index                         0\n",
       "Female Population               0\n",
       "# of hospitals                  0\n",
       "Foreign Visitors                0\n",
       "Covid Cases                     0\n",
       "Population [2011]_is_missing    0\n",
       "Popuation [2001]_is_missing     0\n",
       "Sex Ratio_is_missing            0\n",
       "Median Age_is_missing           0\n",
       "Avg Temp_is_missing             0\n",
       "Toilets Avl_is_missing          0\n",
       "Water Purity_is_missing         0\n",
       "H Index_is_missing              0\n",
       "Female Population_is_missing    0\n",
       "# of hospitals_is_missing       0\n",
       "Foreign Visitors_is_missing     0\n",
       "dtype: int64"
      ]
     },
     "execution_count": 14,
     "metadata": {},
     "output_type": "execute_result"
    }
   ],
   "source": [
    "df_temp.isna().sum()"
   ]
  },
  {
   "cell_type": "markdown",
   "metadata": {},
   "source": [
    "## Filling and converting the categorical columns to numeric "
   ]
  },
  {
   "cell_type": "code",
   "execution_count": 15,
   "metadata": {},
   "outputs": [
    {
     "name": "stdout",
     "output_type": "stream",
     "text": [
      "City\n",
      "State\n",
      "Type\n",
      "SWM\n"
     ]
    }
   ],
   "source": [
    "for label , content in df_temp.items():\n",
    "    if pd.api.types.is_categorical_dtype(content):\n",
    "        print(label)"
   ]
  },
  {
   "cell_type": "code",
   "execution_count": 16,
   "metadata": {},
   "outputs": [],
   "source": [
    "for label , content in df_temp.items():\n",
    "    if pd.api.types.is_categorical_dtype(content):\n",
    "        ## adding a is_missing col to indicate the value is missing or not \n",
    "        df_temp[label+\"_is_missing\"]= pd.isnull(content)\n",
    "        # we add +1 because the pandas encodes missing categories as numbers\n",
    "        df_temp[label] = pd.Categorical(content).codes+1\n",
    "        "
   ]
  },
  {
   "cell_type": "code",
   "execution_count": 17,
   "metadata": {},
   "outputs": [
    {
     "name": "stdout",
     "output_type": "stream",
     "text": [
      "<class 'pandas.core.frame.DataFrame'>\n",
      "RangeIndex: 787 entries, 0 to 786\n",
      "Data columns (total 31 columns):\n",
      " #   Column                        Non-Null Count  Dtype  \n",
      "---  ------                        --------------  -----  \n",
      " 0   City                          787 non-null    int16  \n",
      " 1   State                         787 non-null    int8   \n",
      " 2   Type                          787 non-null    int8   \n",
      " 3   Population [2011]             787 non-null    float64\n",
      " 4   Popuation [2001]              787 non-null    float64\n",
      " 5   Sex Ratio                     787 non-null    float64\n",
      " 6   Median Age                    787 non-null    float64\n",
      " 7   Avg Temp                      787 non-null    float64\n",
      " 8   SWM                           787 non-null    int8   \n",
      " 9   Toilets Avl                   787 non-null    float64\n",
      " 10  Water Purity                  787 non-null    float64\n",
      " 11  H Index                       787 non-null    float64\n",
      " 12  Female Population             787 non-null    float64\n",
      " 13  # of hospitals                787 non-null    float64\n",
      " 14  Foreign Visitors              787 non-null    float64\n",
      " 15  Covid Cases                   787 non-null    int64  \n",
      " 16  Population [2011]_is_missing  787 non-null    bool   \n",
      " 17  Popuation [2001]_is_missing   787 non-null    bool   \n",
      " 18  Sex Ratio_is_missing          787 non-null    bool   \n",
      " 19  Median Age_is_missing         787 non-null    bool   \n",
      " 20  Avg Temp_is_missing           787 non-null    bool   \n",
      " 21  Toilets Avl_is_missing        787 non-null    bool   \n",
      " 22  Water Purity_is_missing       787 non-null    bool   \n",
      " 23  H Index_is_missing            787 non-null    bool   \n",
      " 24  Female Population_is_missing  787 non-null    bool   \n",
      " 25  # of hospitals_is_missing     787 non-null    bool   \n",
      " 26  Foreign Visitors_is_missing   787 non-null    bool   \n",
      " 27  City_is_missing               787 non-null    bool   \n",
      " 28  State_is_missing              787 non-null    bool   \n",
      " 29  Type_is_missing               787 non-null    bool   \n",
      " 30  SWM_is_missing                787 non-null    bool   \n",
      "dtypes: bool(15), float64(11), int16(1), int64(1), int8(3)\n",
      "memory usage: 89.3 KB\n"
     ]
    }
   ],
   "source": [
    "df_temp.info()"
   ]
  },
  {
   "cell_type": "markdown",
   "metadata": {},
   "source": [
    "#### All the missing values are filled and the columns are converted to numeric"
   ]
  },
  {
   "cell_type": "markdown",
   "metadata": {},
   "source": [
    "## Modelling\n",
    "\n",
    "The dataset has been cleaned and is ready for modelling \n",
    "\n",
    "Following the Scikit-Learn machine learning map, (https://scikit-learn.org/stable/tutorial/machine_learning_map/index.html).\n",
    "\n",
    "According to the chart lets try **Ridge regression** first"
   ]
  },
  {
   "cell_type": "code",
   "execution_count": 18,
   "metadata": {},
   "outputs": [
    {
     "data": {
      "text/plain": [
       "0.6034154720391126"
      ]
     },
     "execution_count": 18,
     "metadata": {},
     "output_type": "execute_result"
    }
   ],
   "source": [
    "## Ridge Regression \n",
    "from sklearn.linear_model import Ridge\n",
    "\n",
    "# Instantiate the model \n",
    "model_ridge = Ridge(alpha=0.5)\n",
    "\n",
    "# Fitting the model to the data_set \n",
    "model_ridge.fit(df_temp.drop(\"Covid Cases\",axis=1),df_temp[\"Covid Cases\"])\n",
    "\n",
    "# getting the score for the model\n",
    "model_ridge.score(df_temp.drop(\"Covid Cases\",axis=1),df_temp[\"Covid Cases\"])"
   ]
  },
  {
   "cell_type": "markdown",
   "metadata": {},
   "source": [
    "**Random Forest Regression**"
   ]
  },
  {
   "cell_type": "code",
   "execution_count": 19,
   "metadata": {},
   "outputs": [
    {
     "data": {
      "text/plain": [
       "0.9388937952236175"
      ]
     },
     "execution_count": 19,
     "metadata": {},
     "output_type": "execute_result"
    }
   ],
   "source": [
    "## RandomForestRegression \n",
    "from sklearn.ensemble import RandomForestRegressor\n",
    "\n",
    "# Instantiate the model\n",
    "model_rfr = RandomForestRegressor()\n",
    "\n",
    "# Fitting the model to the dataset\n",
    "model_rfr.fit(df_temp.drop(\"Covid Cases\",axis=1),df_temp[\"Covid Cases\"])\n",
    "\n",
    "# getting the score for the model\n",
    "model_rfr.score(df_temp.drop(\"Covid Cases\",axis=1),df_temp[\"Covid Cases\"])"
   ]
  },
  {
   "cell_type": "markdown",
   "metadata": {},
   "source": [
    "**Gradiant boosting Regressor (XGBOOT)**"
   ]
  },
  {
   "cell_type": "code",
   "execution_count": 20,
   "metadata": {},
   "outputs": [
    {
     "data": {
      "text/plain": [
       "0.9868085490385676"
      ]
     },
     "execution_count": 20,
     "metadata": {},
     "output_type": "execute_result"
    }
   ],
   "source": [
    "## XGBOOST\n",
    "from sklearn.ensemble import GradientBoostingRegressor\n",
    "\n",
    "# Instantiate the model \n",
    "model_gbr = GradientBoostingRegressor()\n",
    "\n",
    "# Fitting the model to the dataset \n",
    "model_gbr.fit(df_temp.drop(\"Covid Cases\",axis=1),df_temp[\"Covid Cases\"])\n",
    "\n",
    "# Scoring the model \n",
    "model_gbr.score(df_temp.drop(\"Covid Cases\",axis=1),df_temp[\"Covid Cases\"])\n"
   ]
  },
  {
   "cell_type": "markdown",
   "metadata": {},
   "source": [
    "## Splitting the data into training and validation sets \n",
    "\n",
    "The data needs to be split in order for us to train the model and evaluvate the model based on scoring the model using validation set "
   ]
  },
  {
   "cell_type": "code",
   "execution_count": 21,
   "metadata": {},
   "outputs": [],
   "source": [
    "X = df_temp.drop(\"Covid Cases\",axis=1)\n",
    "y = df_temp[\"Covid Cases\"]"
   ]
  },
  {
   "cell_type": "code",
   "execution_count": 22,
   "metadata": {},
   "outputs": [],
   "source": [
    "## Splitting the model into training and test sets \n",
    "from sklearn.model_selection import train_test_split\n",
    "X_train,X_valid,y_train,y_valid = train_test_split(X,y,test_size=0.2)"
   ]
  },
  {
   "cell_type": "markdown",
   "metadata": {},
   "source": [
    "## Creating an evaluvation/scoring function"
   ]
  },
  {
   "cell_type": "code",
   "execution_count": 23,
   "metadata": {},
   "outputs": [],
   "source": [
    "## Create evaluation function\n",
    "from sklearn.metrics import mean_squared_log_error, mean_absolute_error\n",
    "\n",
    "def rmsle(y_valid, y_preds):\n",
    "    return np.sqrt(mean_squared_log_error(y_valid, y_preds))\n",
    "\n",
    "# Create function to evaluate our model\n",
    "def show_scores(model):\n",
    "    train_preds = model.predict(X_train)\n",
    "    valid_preds = model.predict(X_valid)\n",
    "    scores = {\"Training MAE\": mean_absolute_error(y_train, train_preds),\n",
    "              \"Valid MAE\": mean_absolute_error(y_valid, valid_preds),\n",
    "              \"Training RMSLE\": rmsle(y_train, train_preds),\n",
    "              \"Valid RMSLE\": rmsle(y_valid, valid_preds),\n",
    "              \"Training R^2\": model.score(X_train, y_train),\n",
    "              \"Valid R^2\": model.score(X_valid, y_valid)}\n",
    "    return scores"
   ]
  },
  {
   "cell_type": "code",
   "execution_count": 24,
   "metadata": {},
   "outputs": [
    {
     "data": {
      "text/plain": [
       "{'Training MAE': 961.8895548489667,\n",
       " 'Valid MAE': 2323.979936708861,\n",
       " 'Training RMSLE': 0.26828840519413305,\n",
       " 'Valid RMSLE': 0.4729194106601779,\n",
       " 'Training R^2': 0.9309781932646595,\n",
       " 'Valid R^2': 0.741505035708836}"
      ]
     },
     "execution_count": 24,
     "metadata": {},
     "output_type": "execute_result"
    }
   ],
   "source": [
    "## Random Forest Regression\n",
    "model_rfr.fit(X_train,y_train)\n",
    "show_scores(model_rfr)"
   ]
  },
  {
   "cell_type": "markdown",
   "metadata": {},
   "source": [
    "## Hyperparameter tuning"
   ]
  },
  {
   "cell_type": "code",
   "execution_count": 31,
   "metadata": {},
   "outputs": [
    {
     "name": "stdout",
     "output_type": "stream",
     "text": [
      "Fitting 5 folds for each of 300 candidates, totalling 1500 fits\n"
     ]
    },
    {
     "name": "stderr",
     "output_type": "stream",
     "text": [
      "[Parallel(n_jobs=1)]: Using backend SequentialBackend with 1 concurrent workers.\n",
      "[Parallel(n_jobs=1)]: Done 1500 out of 1500 | elapsed:  3.4min finished\n"
     ]
    },
    {
     "name": "stdout",
     "output_type": "stream",
     "text": [
      "Wall time: 3min 21s\n"
     ]
    },
    {
     "data": {
      "text/plain": [
       "RandomizedSearchCV(cv=5, estimator=RandomForestRegressor(), n_iter=300,\n",
       "                   param_distributions={'max_depth': [None, 3, 5, 10],\n",
       "                                        'max_features': [0.5, 1, 'sqrt',\n",
       "                                                         'auto'],\n",
       "                                        'max_samples': [500],\n",
       "                                        'min_samples_leaf': array([ 1,  3,  5,  7,  9, 11, 13, 15, 17, 19]),\n",
       "                                        'min_samples_split': array([ 2,  4,  6,  8, 10, 12, 14, 16, 18]),\n",
       "                                        'n_estimators': array([10, 20, 30, 40, 50, 60, 70, 80, 90])},\n",
       "                   verbose=True)"
      ]
     },
     "execution_count": 31,
     "metadata": {},
     "output_type": "execute_result"
    }
   ],
   "source": [
    "%%time\n",
    "from sklearn.model_selection import RandomizedSearchCV\n",
    "\n",
    "# Different RandomForestClassifier hyperparameters\n",
    "rf_grid = {\"n_estimators\": np.arange(10, 100, 10),\n",
    "           \"max_depth\": [None, 3, 5, 10],\n",
    "           \"min_samples_split\": np.arange(2, 20, 2),\n",
    "           \"min_samples_leaf\": np.arange(1, 20, 2),\n",
    "           \"max_features\": [0.5, 1, \"sqrt\", \"auto\"],\n",
    "           \"max_samples\": [500]}\n",
    "\n",
    "rs_model = RandomizedSearchCV(RandomForestRegressor(),\n",
    "                             param_distributions=rf_grid,\n",
    "                             n_iter = 300,\n",
    "                             cv=5,\n",
    "                             verbose=True)\n",
    "\n",
    "rs_model.fit(X_train, y_train)"
   ]
  },
  {
   "cell_type": "code",
   "execution_count": 32,
   "metadata": {},
   "outputs": [
    {
     "data": {
      "text/plain": [
       "{'n_estimators': 40,\n",
       " 'min_samples_split': 6,\n",
       " 'min_samples_leaf': 3,\n",
       " 'max_samples': 500,\n",
       " 'max_features': 'auto',\n",
       " 'max_depth': 10}"
      ]
     },
     "execution_count": 32,
     "metadata": {},
     "output_type": "execute_result"
    }
   ],
   "source": [
    "rs_model.best_params_"
   ]
  },
  {
   "cell_type": "code",
   "execution_count": 33,
   "metadata": {},
   "outputs": [
    {
     "data": {
      "text/plain": [
       "{'Training MAE': 1675.1545149352373,\n",
       " 'Valid MAE': 2189.6527362296656,\n",
       " 'Training RMSLE': 0.3801034225996213,\n",
       " 'Valid RMSLE': 0.4855218747192536,\n",
       " 'Training R^2': 0.7797946135908661,\n",
       " 'Valid R^2': 0.7933500965399471}"
      ]
     },
     "execution_count": 33,
     "metadata": {},
     "output_type": "execute_result"
    }
   ],
   "source": [
    "show_scores(rs_model)"
   ]
  },
  {
   "cell_type": "code",
   "execution_count": 53,
   "metadata": {},
   "outputs": [],
   "source": [
    "ideal_model = RandomForestRegressor(n_estimators= 40,\n",
    "                                    min_samples_split= 6,\n",
    "                                    min_samples_leaf= 3,\n",
    "                                    max_samples= 500,\n",
    "                                    max_features= 'auto',\n",
    "                                    max_depth= 10)"
   ]
  },
  {
   "cell_type": "code",
   "execution_count": 54,
   "metadata": {},
   "outputs": [
    {
     "data": {
      "text/plain": [
       "RandomForestRegressor(max_depth=10, max_samples=500, min_samples_leaf=3,\n",
       "                      min_samples_split=6, n_estimators=40)"
      ]
     },
     "execution_count": 54,
     "metadata": {},
     "output_type": "execute_result"
    }
   ],
   "source": [
    "ideal_model.fit(X_train,y_train)"
   ]
  },
  {
   "cell_type": "markdown",
   "metadata": {},
   "source": [
    "## Preprocessing the test data "
   ]
  },
  {
   "cell_type": "code",
   "execution_count": 35,
   "metadata": {},
   "outputs": [],
   "source": [
    "df_test = pd.read_excel(\"Test_dataset.xlsx\")"
   ]
  },
  {
   "cell_type": "code",
   "execution_count": 36,
   "metadata": {},
   "outputs": [
    {
     "name": "stdout",
     "output_type": "stream",
     "text": [
      "City\n",
      "State\n",
      "Type\n",
      "SWM\n"
     ]
    }
   ],
   "source": [
    "## Check which coulums contains strings\n",
    "for label, content in  df_test.items():\n",
    "    if pd.api.types.is_string_dtype(content):\n",
    "        print(label)"
   ]
  },
  {
   "cell_type": "code",
   "execution_count": 37,
   "metadata": {},
   "outputs": [],
   "source": [
    "## converting the string coulums to categories \n",
    "for label, content in df_test.items():\n",
    "    if pd.api.types.is_string_dtype(content):\n",
    "        df_test[label]= df_test[label].astype(\"category\")"
   ]
  },
  {
   "cell_type": "code",
   "execution_count": 38,
   "metadata": {},
   "outputs": [],
   "source": [
    "# filling pouation [2001]column with 25% less values from the population [2011] column\n",
    "df_test[\"Popuation [2001]\"]= df_test[\"Population [2011]\"]-(df_test[\"Population [2011]\"]*0.25)"
   ]
  },
  {
   "cell_type": "code",
   "execution_count": 40,
   "metadata": {},
   "outputs": [],
   "source": [
    "## filling the missing values with median\n",
    "for label , content in df_test.items():\n",
    "    if pd.api.types.is_numeric_dtype(content):\n",
    "        if pd.isnull(content).sum():\n",
    "            ## create a is_missing col to indicate the value has been filled or not \n",
    "            df_test[label+\"_is_missing\"] = pd.isnull(content)\n",
    "            ## filling the missing values with median of its respective column\n",
    "            df_test[label]= content.fillna(content.median())"
   ]
  },
  {
   "cell_type": "code",
   "execution_count": 41,
   "metadata": {},
   "outputs": [
    {
     "data": {
      "text/plain": [
       "City                            0\n",
       "State                           0\n",
       "Type                            2\n",
       "Population [2011]               0\n",
       "Popuation [2001]                0\n",
       "Sex Ratio                       0\n",
       "Median Age                      0\n",
       "Avg Temp                        0\n",
       "SWM                             9\n",
       "Toilets Avl                     0\n",
       "Water Purity                    0\n",
       "H Index                         0\n",
       "Female Population               0\n",
       "# of hospitals                  0\n",
       "Foreign Visitors                0\n",
       "Population [2011]_is_missing    0\n",
       "Popuation [2001]_is_missing     0\n",
       "Sex Ratio_is_missing            0\n",
       "Median Age_is_missing           0\n",
       "Avg Temp_is_missing             0\n",
       "Toilets Avl_is_missing          0\n",
       "Water Purity_is_missing         0\n",
       "H Index_is_missing              0\n",
       "Female Population_is_missing    0\n",
       "# of hospitals_is_missing       0\n",
       "Foreign Visitors_is_missing     0\n",
       "dtype: int64"
      ]
     },
     "execution_count": 41,
     "metadata": {},
     "output_type": "execute_result"
    }
   ],
   "source": [
    "df_test.isna().sum()"
   ]
  },
  {
   "cell_type": "code",
   "execution_count": 43,
   "metadata": {},
   "outputs": [
    {
     "name": "stdout",
     "output_type": "stream",
     "text": [
      "City\n",
      "State\n",
      "Type\n",
      "SWM\n"
     ]
    }
   ],
   "source": [
    "for label , content in df_test.items():\n",
    "    if pd.api.types.is_categorical_dtype(content):\n",
    "        print(label)"
   ]
  },
  {
   "cell_type": "code",
   "execution_count": 44,
   "metadata": {},
   "outputs": [],
   "source": [
    "for label , content in df_test.items():\n",
    "    if pd.api.types.is_categorical_dtype(content):\n",
    "        ## adding a is_missing col to indicate the value is missing or not \n",
    "        df_test[label+\"_is_missing\"]= pd.isnull(content)\n",
    "        # we add +1 because the pandas encodes missing categories as numbers\n",
    "        df_test[label] = pd.Categorical(content).codes+1\n",
    "        "
   ]
  },
  {
   "cell_type": "code",
   "execution_count": 45,
   "metadata": {},
   "outputs": [
    {
     "data": {
      "text/plain": [
       "City                            0\n",
       "State                           0\n",
       "Type                            0\n",
       "Population [2011]               0\n",
       "Popuation [2001]                0\n",
       "Sex Ratio                       0\n",
       "Median Age                      0\n",
       "Avg Temp                        0\n",
       "SWM                             0\n",
       "Toilets Avl                     0\n",
       "Water Purity                    0\n",
       "H Index                         0\n",
       "Female Population               0\n",
       "# of hospitals                  0\n",
       "Foreign Visitors                0\n",
       "Population [2011]_is_missing    0\n",
       "Popuation [2001]_is_missing     0\n",
       "Sex Ratio_is_missing            0\n",
       "Median Age_is_missing           0\n",
       "Avg Temp_is_missing             0\n",
       "Toilets Avl_is_missing          0\n",
       "Water Purity_is_missing         0\n",
       "H Index_is_missing              0\n",
       "Female Population_is_missing    0\n",
       "# of hospitals_is_missing       0\n",
       "Foreign Visitors_is_missing     0\n",
       "City_is_missing                 0\n",
       "State_is_missing                0\n",
       "Type_is_missing                 0\n",
       "SWM_is_missing                  0\n",
       "dtype: int64"
      ]
     },
     "execution_count": 45,
     "metadata": {},
     "output_type": "execute_result"
    }
   ],
   "source": [
    "df_test.isna().sum()"
   ]
  },
  {
   "cell_type": "code",
   "execution_count": 46,
   "metadata": {},
   "outputs": [
    {
     "name": "stdout",
     "output_type": "stream",
     "text": [
      "<class 'pandas.core.frame.DataFrame'>\n",
      "RangeIndex: 787 entries, 0 to 786\n",
      "Data columns (total 31 columns):\n",
      " #   Column                        Non-Null Count  Dtype  \n",
      "---  ------                        --------------  -----  \n",
      " 0   City                          787 non-null    int16  \n",
      " 1   State                         787 non-null    int8   \n",
      " 2   Type                          787 non-null    int8   \n",
      " 3   Population [2011]             787 non-null    float64\n",
      " 4   Popuation [2001]              787 non-null    float64\n",
      " 5   Sex Ratio                     787 non-null    float64\n",
      " 6   Median Age                    787 non-null    float64\n",
      " 7   Avg Temp                      787 non-null    float64\n",
      " 8   SWM                           787 non-null    int8   \n",
      " 9   Toilets Avl                   787 non-null    float64\n",
      " 10  Water Purity                  787 non-null    float64\n",
      " 11  H Index                       787 non-null    float64\n",
      " 12  Female Population             787 non-null    float64\n",
      " 13  # of hospitals                787 non-null    float64\n",
      " 14  Foreign Visitors              787 non-null    float64\n",
      " 15  Covid Cases                   787 non-null    int64  \n",
      " 16  Population [2011]_is_missing  787 non-null    bool   \n",
      " 17  Popuation [2001]_is_missing   787 non-null    bool   \n",
      " 18  Sex Ratio_is_missing          787 non-null    bool   \n",
      " 19  Median Age_is_missing         787 non-null    bool   \n",
      " 20  Avg Temp_is_missing           787 non-null    bool   \n",
      " 21  Toilets Avl_is_missing        787 non-null    bool   \n",
      " 22  Water Purity_is_missing       787 non-null    bool   \n",
      " 23  H Index_is_missing            787 non-null    bool   \n",
      " 24  Female Population_is_missing  787 non-null    bool   \n",
      " 25  # of hospitals_is_missing     787 non-null    bool   \n",
      " 26  Foreign Visitors_is_missing   787 non-null    bool   \n",
      " 27  City_is_missing               787 non-null    bool   \n",
      " 28  State_is_missing              787 non-null    bool   \n",
      " 29  Type_is_missing               787 non-null    bool   \n",
      " 30  SWM_is_missing                787 non-null    bool   \n",
      "dtypes: bool(15), float64(11), int16(1), int64(1), int8(3)\n",
      "memory usage: 89.3 KB\n"
     ]
    }
   ],
   "source": [
    "df_temp.info()"
   ]
  },
  {
   "cell_type": "markdown",
   "metadata": {},
   "source": [
    "## making prediction on the training set"
   ]
  },
  {
   "cell_type": "code",
   "execution_count": 55,
   "metadata": {},
   "outputs": [],
   "source": [
    "test_preds = ideal_model.predict(df_test)\n"
   ]
  },
  {
   "cell_type": "code",
   "execution_count": 57,
   "metadata": {},
   "outputs": [],
   "source": [
    "new_test = pd.read_excel('Test_dataset.xlsx')"
   ]
  },
  {
   "cell_type": "code",
   "execution_count": 58,
   "metadata": {},
   "outputs": [
    {
     "data": {
      "text/html": [
       "<div>\n",
       "<style scoped>\n",
       "    .dataframe tbody tr th:only-of-type {\n",
       "        vertical-align: middle;\n",
       "    }\n",
       "\n",
       "    .dataframe tbody tr th {\n",
       "        vertical-align: top;\n",
       "    }\n",
       "\n",
       "    .dataframe thead th {\n",
       "        text-align: right;\n",
       "    }\n",
       "</style>\n",
       "<table border=\"1\" class=\"dataframe\">\n",
       "  <thead>\n",
       "    <tr style=\"text-align: right;\">\n",
       "      <th></th>\n",
       "      <th>City</th>\n",
       "      <th>Covid Cases</th>\n",
       "    </tr>\n",
       "  </thead>\n",
       "  <tbody>\n",
       "    <tr>\n",
       "      <th>0</th>\n",
       "      <td>Tuensang</td>\n",
       "      <td>2134.893005</td>\n",
       "    </tr>\n",
       "    <tr>\n",
       "      <th>1</th>\n",
       "      <td>Lakshmeshwar</td>\n",
       "      <td>2293.170234</td>\n",
       "    </tr>\n",
       "    <tr>\n",
       "      <th>2</th>\n",
       "      <td>Zira</td>\n",
       "      <td>2639.040256</td>\n",
       "    </tr>\n",
       "    <tr>\n",
       "      <th>3</th>\n",
       "      <td>Yawal</td>\n",
       "      <td>2278.554413</td>\n",
       "    </tr>\n",
       "    <tr>\n",
       "      <th>4</th>\n",
       "      <td>Thana Bhawan</td>\n",
       "      <td>2498.694151</td>\n",
       "    </tr>\n",
       "    <tr>\n",
       "      <th>...</th>\n",
       "      <td>...</td>\n",
       "      <td>...</td>\n",
       "    </tr>\n",
       "    <tr>\n",
       "      <th>496</th>\n",
       "      <td>Nandaprayag</td>\n",
       "      <td>2269.339393</td>\n",
       "    </tr>\n",
       "    <tr>\n",
       "      <th>497</th>\n",
       "      <td>Kirtinagar</td>\n",
       "      <td>2339.315223</td>\n",
       "    </tr>\n",
       "    <tr>\n",
       "      <th>498</th>\n",
       "      <td>Kedarnath</td>\n",
       "      <td>2259.470680</td>\n",
       "    </tr>\n",
       "    <tr>\n",
       "      <th>499</th>\n",
       "      <td>Gangotri</td>\n",
       "      <td>2307.849854</td>\n",
       "    </tr>\n",
       "    <tr>\n",
       "      <th>500</th>\n",
       "      <td>Kumarganj</td>\n",
       "      <td>2379.181890</td>\n",
       "    </tr>\n",
       "  </tbody>\n",
       "</table>\n",
       "<p>501 rows × 2 columns</p>\n",
       "</div>"
      ],
      "text/plain": [
       "             City  Covid Cases\n",
       "0        Tuensang  2134.893005\n",
       "1    Lakshmeshwar  2293.170234\n",
       "2            Zira  2639.040256\n",
       "3           Yawal  2278.554413\n",
       "4    Thana Bhawan  2498.694151\n",
       "..            ...          ...\n",
       "496   Nandaprayag  2269.339393\n",
       "497    Kirtinagar  2339.315223\n",
       "498     Kedarnath  2259.470680\n",
       "499      Gangotri  2307.849854\n",
       "500     Kumarganj  2379.181890\n",
       "\n",
       "[501 rows x 2 columns]"
      ]
     },
     "execution_count": 58,
     "metadata": {},
     "output_type": "execute_result"
    }
   ],
   "source": [
    "df_preds = pd.DataFrame()\n",
    "df_preds[\"City\"] = new_test[\"City\"]\n",
    "df_preds[\"Covid Cases\"] = test_preds\n",
    "df_preds"
   ]
  },
  {
   "cell_type": "code",
   "execution_count": 63,
   "metadata": {},
   "outputs": [],
   "source": [
    "#exporting predictions as excel file\n",
    "df_preds.to_excel(\"covid-19-cases-predictions.xlsx\", index=False)"
   ]
  },
  {
   "cell_type": "markdown",
   "metadata": {},
   "source": [
    "## Feature Importance\n",
    "\n",
    "Feature importance seeks to figure out which different attributes of the data were most important when it comes to predicting the target variable"
   ]
  },
  {
   "cell_type": "code",
   "execution_count": 64,
   "metadata": {},
   "outputs": [
    {
     "data": {
      "text/plain": [
       "array([9.09031996e-03, 9.84372524e-03, 1.82556560e-04, 3.42380852e-01,\n",
       "       1.84343361e-01, 6.13668922e-03, 1.93301766e-03, 1.20491337e-03,\n",
       "       2.63646375e-03, 5.66532096e-02, 2.77683065e-02, 1.58029006e-02,\n",
       "       1.87006842e-01, 6.29295578e-02, 9.11378678e-02, 4.41836776e-07,\n",
       "       1.44026092e-06, 3.92556714e-07, 0.00000000e+00, 2.04919144e-05,\n",
       "       1.36574998e-06, 2.40732428e-04, 7.71285459e-07, 4.19038305e-06,\n",
       "       3.67634956e-04, 3.11956496e-04, 0.00000000e+00, 0.00000000e+00,\n",
       "       0.00000000e+00, 0.00000000e+00])"
      ]
     },
     "execution_count": 64,
     "metadata": {},
     "output_type": "execute_result"
    }
   ],
   "source": [
    "# Find feature importance of our best model\n",
    "ideal_model.feature_importances_"
   ]
  },
  {
   "cell_type": "code",
   "execution_count": 65,
   "metadata": {},
   "outputs": [],
   "source": [
    "import seaborn as sns\n",
    "\n",
    "# Helper function for plotting feature importance\n",
    "def plot_features(columns, importances, n=20):\n",
    "    df = (pd.DataFrame({\"features\": columns,\n",
    "                        \"feature_importance\": importances})\n",
    "          .sort_values(\"feature_importance\", ascending=False)\n",
    "          .reset_index(drop=True))\n",
    "    \n",
    "    sns.barplot(x=\"feature_importance\",\n",
    "                y=\"features\",\n",
    "                data=df[:n],\n",
    "                orient=\"h\")"
   ]
  },
  {
   "cell_type": "code",
   "execution_count": 66,
   "metadata": {},
   "outputs": [
    {
     "data": {
      "image/png": "[encoded data removed]",
      "text/plain": [
       "<Figure size 432x288 with 1 Axes>"
      ]
     },
     "metadata": {
      "needs_background": "light"
     },
     "output_type": "display_data"
    }
   ],
   "source": [
    "plot_features(X_train.columns, ideal_model.feature_importances_)\n"
   ]
  },
  {
   "cell_type": "markdown",
   "metadata": {},
   "source": [
    "**As we can see from the above chart the population columns has more impact on the covid cases prediction**"
   ]
  },
  {
   "cell_type": "code",
   "execution_count": 67,
   "metadata": {},
   "outputs": [
    {
     "data": {
      "text/plain": [
       "1.0"
      ]
     },
     "execution_count": 67,
     "metadata": {},
     "output_type": "execute_result"
    }
   ],
   "source": [
    "sum(ideal_model.feature_importances_)"
   ]
  },
  {
   "cell_type": "code",
   "execution_count": null,
   "metadata": {},
   "outputs": [],
   "source": []
  }
 ],
 "metadata": {
  "kernelspec": {
   "display_name": "Python 3",
   "language": "python",
   "name": "python3"
  },
  "language_info": {
   "codemirror_mode": {
    "name": "ipython",
    "version": 3
   },
   "file_extension": ".py",
   "mimetype": "text/x-python",
   "name": "python",
   "nbconvert_exporter": "python",
   "pygments_lexer": "ipython3",
   "version": "3.7.8"
  }
 },
 "nbformat": 4,
 "nbformat_minor": 4
}
